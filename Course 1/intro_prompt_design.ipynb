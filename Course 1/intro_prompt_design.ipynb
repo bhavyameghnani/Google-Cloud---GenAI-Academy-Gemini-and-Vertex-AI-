{
 "cells": [
  {
   "cell_type": "code",
   "execution_count": 21,
   "metadata": {
    "id": "ur8xi4C7S06n",
    "tags": []
   },
   "outputs": [],
   "source": [
    "# Licensed under the Apache License, Version 2.0 (the \"License\");\n",
    "# you may not use this file except in compliance with the License.\n",
    "# You may obtain a copy of the License at\n",
    "#\n",
    "#     https://www.apache.org/licenses/LICENSE-2.0\n",
    "#\n",
    "# Unless required by applicable law or agreed to in writing, software\n",
    "# distributed under the License is distributed on an \"AS IS\" BASIS,\n",
    "# WITHOUT WARRANTIES OR CONDITIONS OF ANY KIND, either express or implied.\n",
    "# See the License for the specific language governing permissions and\n",
    "# limitations under the License."
   ]
  },
  {
   "cell_type": "markdown",
   "metadata": {
    "id": "tvgnzT1CKxrO"
   },
   "source": [
    "## Overview\n",
    "\n",
    "This notebook covers the essentials of prompt engineering, including some best practices.\n",
    "\n",
    "Learn more about prompt design in the [official documentation](https://cloud.google.com/vertex-ai/docs/generative-ai/text/text-overview).\n",
    "\n",
    "In this notebook, you learn best practices around prompt engineering -- how to design prompts to improve the quality of your responses.\n",
    "\n",
    "This notebook covers the following best practices for prompt engineering:\n",
    "\n",
    "- Be concise\n",
    "- Be specific and well-defined\n",
    "- Ask one task at a time\n",
    "- Turn generative tasks into classification tasks\n",
    "- Improve response quality by including examples"
   ]
  },
  {
   "cell_type": "markdown",
   "metadata": {
    "id": "61RBz8LLbxCR"
   },
   "source": [
    "## Getting Started"
   ]
  },
  {
   "cell_type": "markdown",
   "metadata": {
    "id": "No17Cw5hgx12"
   },
   "source": [
    "### Install Google Gen AI SDK\n"
   ]
  },
  {
   "cell_type": "code",
   "execution_count": 1,
   "metadata": {
    "id": "tFy3H3aPgx12",
    "tags": []
   },
   "outputs": [
    {
     "name": "stdout",
     "output_type": "stream",
     "text": [
      "Note: you may need to restart the kernel to use updated packages.\n"
     ]
    }
   ],
   "source": [
    "%pip install --upgrade --quiet google-genai"
   ]
  },
  {
   "cell_type": "markdown",
   "metadata": {
    "id": "R5Xep4W9lq-Z"
   },
   "source": [
    "### Restart runtime\n",
    "\n",
    "To use the newly installed packages in this Jupyter runtime, you must restart the runtime. You can do this by running the cell below, which will restart the current kernel."
   ]
  },
  {
   "cell_type": "code",
   "execution_count": 2,
   "metadata": {
    "id": "XRvKdaPDTznN",
    "tags": []
   },
   "outputs": [
    {
     "data": {
      "text/plain": [
       "{'status': 'ok', 'restart': True}"
      ]
     },
     "execution_count": 2,
     "metadata": {},
     "output_type": "execute_result"
    }
   ],
   "source": [
    "import IPython\n",
    "\n",
    "app = IPython.Application.instance()\n",
    "app.kernel.do_shutdown(True)"
   ]
  },
  {
   "cell_type": "markdown",
   "metadata": {
    "id": "dmWOrTJ3gx13"
   },
   "source": [
    "### Authenticate your notebook environment (Colab only)\n",
    "\n",
    "Authenticate your environment on Google Colab.\n"
   ]
  },
  {
   "cell_type": "code",
   "execution_count": 1,
   "metadata": {
    "id": "NyKGtVQjgx13",
    "tags": []
   },
   "outputs": [],
   "source": [
    "import sys\n",
    "\n",
    "if \"google.colab\" in sys.modules:\n",
    "    from google.colab import auth\n",
    "\n",
    "    auth.authenticate_user()"
   ]
  },
  {
   "cell_type": "markdown",
   "metadata": {
    "id": "06489bd14f16"
   },
   "source": [
    "### Import libraries\n"
   ]
  },
  {
   "cell_type": "code",
   "execution_count": 2,
   "metadata": {
    "id": "154137022fb6",
    "tags": []
   },
   "outputs": [],
   "source": [
    "from IPython.display import Markdown, display\n",
    "from google import genai\n",
    "from google.genai.types import GenerateContentConfig"
   ]
  },
  {
   "cell_type": "markdown",
   "metadata": {
    "id": "DF4l8DTdWgPY"
   },
   "source": [
    "### Set Google Cloud project information and create client\n",
    "\n",
    "To get started using Vertex AI, you must have an existing Google Cloud project and [enable the Vertex AI API](https://console.cloud.google.com/flows/enableapi?apiid=aiplatform.googleapis.com).\n",
    "\n",
    "Learn more about [setting up a project and a development environment](https://cloud.google.com/vertex-ai/docs/start/cloud-environment)."
   ]
  },
  {
   "cell_type": "code",
   "execution_count": null,
   "metadata": {
    "id": "Nqwi-5ufWp_B",
    "tags": []
   },
   "outputs": [],
   "source": [
    "import os\n",
    "\n",
    "PROJECT_ID = \" \"  # @param {type: \"string\", placeholder: \"[your-project-id]\", isTemplate: true}\n",
    "LOCATION = os.environ.get(\"GOOGLE_CLOUD_REGION\", \" \")# @param {type: \"string\", placeholder: \"[your-region]\", isTemplate: true}\n",
    "\n",
    "if not LOCATION or LOCATION == \"[your-region]\":\n",
    "    LOCATION = \"us-central1\"\n",
    "if not PROJECT_ID or PROJECT_ID == \"[your-project-id]\":\n",
    "    PROJECT_ID = str(os.environ.get(\"GOOGLE_CLOUD_PROJECT\"))"
   ]
  },
  {
   "cell_type": "code",
   "execution_count": 4,
   "metadata": {
    "id": "QqRWdPGmW3NJ",
    "tags": []
   },
   "outputs": [],
   "source": [
    "client = genai.Client(vertexai=True, project=PROJECT_ID, location=LOCATION)"
   ]
  },
  {
   "cell_type": "markdown",
   "metadata": {
    "id": "OnFPpCRtXRl4"
   },
   "source": [
    "### Load model\n",
    "\n",
    "Learn more about all [Gemini models on Vertex AI](https://cloud.google.com/vertex-ai/generative-ai/docs/learn/models#gemini-models)."
   ]
  },
  {
   "cell_type": "code",
   "execution_count": 5,
   "metadata": {
    "id": "IQYu_9SvXQah",
    "tags": []
   },
   "outputs": [],
   "source": [
    "MODEL_ID = \"gemini-2.0-flash-001\"  # @param {type: \"string\"}"
   ]
  },
  {
   "cell_type": "markdown",
   "metadata": {
    "id": "cVOtUNJ5X0PY"
   },
   "source": [
    "## Prompt engineering best practices"
   ]
  },
  {
   "cell_type": "markdown",
   "metadata": {
    "id": "uv_e0fEPX60q"
   },
   "source": [
    "Prompt engineering is all about how to design your prompts so that the response is what you were indeed hoping to see.\n",
    "\n",
    "The idea of using \"unfancy\" prompts is to minimize the noise in your prompt to reduce the possibility of the LLM misinterpreting the intent of the prompt. Below are a few guidelines on how to engineer \"unfancy\" prompts.\n",
    "\n",
    "In this section, you'll cover the following best practices when engineering prompts:\n",
    "\n",
    "* Be concise\n",
    "* Be specific, and well-defined\n",
    "* Ask one task at a time\n",
    "* Improve response quality by including examples\n",
    "* Turn generative tasks to classification tasks to improve safety"
   ]
  },
  {
   "cell_type": "markdown",
   "metadata": {
    "id": "0pY4XX0OX9_Y"
   },
   "source": [
    "### Be concise"
   ]
  },
  {
   "cell_type": "markdown",
   "metadata": {
    "id": "xlRpxyxGYA1K"
   },
   "source": [
    "🛑 Not recommended. The prompt below is unnecessarily verbose."
   ]
  },
  {
   "cell_type": "code",
   "execution_count": 6,
   "metadata": {
    "id": "YKV4G-CfXdbi",
    "tags": []
   },
   "outputs": [
    {
     "data": {
      "text/markdown": [
       "Okay, here are some name ideas for a dried flower shop, categorized to help you choose:\n",
       "\n",
       "**Emphasizing the \"Dried\" Aspect:**\n",
       "\n",
       "*   **The Dried Petal:** Simple, elegant, and descriptive.\n",
       "*   **Preserved Blooms:**  Highlights the longevity and process.\n",
       "*   **Everlasting Florals:**  Focuses on the enduring nature of dried flowers.\n",
       "*   **The Arid Arrangement:**  A bit more unique, hinting at the drying process.\n",
       "*   **Dried & Dusted:** Playful and memorable.\n",
       "*   **Terraflora:** Combining \"earth\" and \"flower,\" suggesting a connection to nature and preservation.\n",
       "*   **The Still Life Florist:** A more artistic and sophisticated option.\n",
       "\n",
       "**Emphasizing the Beauty & Artistry:**\n",
       "\n",
       "*   **Golden Hour Florals:** Evokes a warm, nostalgic feeling.\n",
       "*   **The Petal Alchemist:** Suggests transformation and artistry.\n",
       "*   **Woven Blooms:** Implies craftsmanship and texture.\n",
       "*   **Faded Glory:**  A romantic and slightly melancholic name.\n",
       "*   **Timeless Petals:**  Highlights the lasting beauty.\n",
       "*   **The Floral Apothecary:**  Positions the shop as a source of unique, handcrafted floral remedies (in a metaphorical sense).\n",
       "\n",
       "**Emphasizing Nature & Rustic Charm:**\n",
       "\n",
       "*   **The Wildflower Studio (if you incorporate wildflowers):**  Suggests a natural, uncultivated feel.\n",
       "*   **Prairie Petals:** Evokes a sense of open space and natural beauty.\n",
       "*   **The Dried Garden:**  Creates a sense of abundance and natural inspiration.\n",
       "*   **Barn Bloom:** If you want a rustic or farmhouse vibe\n",
       "*   **Fields of Forever:** A nod to the enduring beauty of nature.\n",
       "\n",
       "**Modern & Minimalist:**\n",
       "\n",
       "*   **Bloom Haus:** (Uses German for House)\n",
       "*   **Petal Studio:** Simple and direct.\n",
       "*   **The Floral Edit:** Suggests a curated collection.\n",
       "*   **Dry Petal:** A combination of two words to imply that the petals are dry\n",
       "*   **Bloom Market:** (Uses Market instead of shop)\n",
       "\n",
       "**Tips for Choosing the Best Name:**\n",
       "\n",
       "*   **Consider your target audience:**  Who are you trying to attract with your shop? A younger, trendier crowd?  A more mature, classic clientele?\n",
       "*   **Think about your brand aesthetic:**  Is your shop modern, rustic, romantic, bohemian? The name should reflect your style.\n",
       "*   **Check for availability:**  Make sure the name isn't already in use by another flower shop (especially in your area) and that the domain name is available if you plan to have a website.\n",
       "*   **Say it out loud:**  Make sure the name is easy to pronounce and remember.\n",
       "*   **Get feedback:**  Ask friends, family, or potential customers what they think of your top choices.\n",
       "\n",
       "Ultimately, the best name is one that you love, that resonates with your brand, and that will attract customers! Good luck!\n"
      ],
      "text/plain": [
       "<IPython.core.display.Markdown object>"
      ]
     },
     "metadata": {},
     "output_type": "display_data"
    }
   ],
   "source": [
    "prompt = \"What do you think could be a good name for a flower shop that specializes in selling bouquets of dried flowers more than fresh flowers?\"\n",
    "\n",
    "response = client.models.generate_content(model=MODEL_ID, contents=prompt)\n",
    "display(Markdown(response.text))"
   ]
  },
  {
   "cell_type": "markdown",
   "metadata": {
    "id": "YrJexRHJYnmC"
   },
   "source": [
    "✅ Recommended. The prompt below is to the point and concise."
   ]
  },
  {
   "cell_type": "code",
   "execution_count": 7,
   "metadata": {
    "id": "VHetn9lCYrXB",
    "tags": []
   },
   "outputs": [
    {
     "data": {
      "text/markdown": [
       "Okay, here are some name suggestions for a dried flower shop, categorized by style:\n",
       "\n",
       "**Elegant & Sophisticated:**\n",
       "\n",
       "*   The Preserved Petal\n",
       "*   Lasting Blooms\n",
       "*   Eternal Flora\n",
       "*   The Dried Bouquet Company\n",
       "*   Amber Flora\n",
       "*   Golden Stems\n",
       "*   The Everlasting Garden\n",
       "*   Timeless Blossoms\n",
       "*   The Serene Stem\n",
       "\n",
       "**Modern & Minimalist:**\n",
       "\n",
       "*   Dried.\n",
       "*   Still Life Flowers\n",
       "*   The Dried Flower Studio\n",
       "*   Root & Bloom (playing on preserved roots)\n",
       "*   Anthology of Dried\n",
       "*   Preserved\n",
       "*   The Dried Collection\n",
       "\n",
       "**Whimsical & Playful:**\n",
       "\n",
       "*   The Neverending Bloom\n",
       "*   Dust & Bloom\n",
       "*   The Happy Dried Flower\n",
       "*   The Bloom Room (emphasis on \"room\" as in, a place to display them)\n",
       "*   Forever Flowers\n",
       "*   Wild Things (if you offer bohemian styles)\n",
       "\n",
       "**Earthy & Natural:**\n",
       "\n",
       "*   Prairie Dried\n",
       "*   Sunbaked Blooms\n",
       "*   The Earthy Bouquet\n",
       "*   Dried & Wild\n",
       "*   Harvest & Bloom\n",
       "*   The Seed & Stem\n",
       "*   Dryad Bloom\n",
       "\n",
       "**Location Specific (Adapt to your area):**\n",
       "\n",
       "*   [Your Town/Region] Dried Flowers\n",
       "*   [Local Landmark] Blooms\n",
       "\n",
       "**Tips for Choosing the Best Name:**\n",
       "\n",
       "*   **Availability:** Check if the name is available as a website domain and social media handle.\n",
       "*   **Target Audience:** Consider who you're trying to attract.  A more sophisticated name might appeal to a different clientele than a whimsical one.\n",
       "*   **Memorability:**  Is the name easy to remember and pronounce?\n",
       "*   **Brand Identity:** Does the name reflect the overall aesthetic and style of your dried flower arrangements?\n",
       "*   **Uniqueness:** Make sure the name isn't too similar to other flower shops in your area.\n",
       "\n",
       "I hope this helps! Good luck with your flower shop!\n"
      ],
      "text/plain": [
       "<IPython.core.display.Markdown object>"
      ]
     },
     "metadata": {},
     "output_type": "display_data"
    }
   ],
   "source": [
    "prompt = \"Suggest a name for a flower shop that sells bouquets of dried flowers\"\n",
    "\n",
    "response = client.models.generate_content(model=MODEL_ID, contents=prompt)\n",
    "display(Markdown(response.text))"
   ]
  },
  {
   "cell_type": "markdown",
   "metadata": {
    "id": "eXTAvdOHY0OC"
   },
   "source": [
    "### Be specific, and well-defined"
   ]
  },
  {
   "cell_type": "markdown",
   "metadata": {
    "id": "FTH4GEIgY1dp"
   },
   "source": [
    "Suppose that you want to brainstorm creative ways to describe Earth."
   ]
  },
  {
   "cell_type": "markdown",
   "metadata": {
    "id": "o5BmXBiGY4KC"
   },
   "source": [
    "🛑 The prompt below might be a bit too generic (which is certainly OK if you'd like to ask a generic question!)"
   ]
  },
  {
   "cell_type": "code",
   "execution_count": 8,
   "metadata": {
    "id": "eHBaMvv7Y6mR",
    "tags": []
   },
   "outputs": [
    {
     "data": {
      "text/markdown": [
       "Okay, let's delve into the fascinating planet we call home: Earth! Here's a breakdown of key aspects:\n",
       "\n",
       "**Basics:**\n",
       "\n",
       "*   **Name:** Earth (The only planet not named after a Greek or Roman deity)\n",
       "*   **Nickname:** The Blue Planet, Terra\n",
       "*   **Rank:** 3rd planet from the Sun\n",
       "*   **Type:** Terrestrial Planet (rocky)\n",
       "*   **Size:**\n",
       "    *   Radius: 6,371 km (3,959 miles)\n",
       "    *   Circumference: 40,075 km (24,901 miles)\n",
       "*   **Mass:** 5.972 × 10^24 kg\n",
       "*   **Density:** 5.514 g/cm³ (densest planet in our solar system)\n",
       "*   **Age:** Approximately 4.54 billion years\n",
       "\n",
       "**Orbit and Rotation:**\n",
       "\n",
       "*   **Orbit:** Earth revolves around the Sun in an elliptical orbit.\n",
       "    *   Average distance from the Sun: 149.6 million km (93 million miles), also known as 1 Astronomical Unit (AU)\n",
       "    *   Orbital Period: 365.25 days (roughly one year) – this is why we have leap years.\n",
       "    *   Orbital Speed: ~29.8 km/s (67,000 mph)\n",
       "*   **Rotation:** Earth spins on its axis.\n",
       "    *   Rotation Period: 23 hours, 56 minutes, and 4 seconds (roughly one day).\n",
       "    *   The tilt of Earth's axis (23.5 degrees) is responsible for the seasons.\n",
       "\n",
       "**Atmosphere:**\n",
       "\n",
       "*   **Composition:** Primarily nitrogen (78%) and oxygen (21%), with small amounts of argon, carbon dioxide, and trace gases.\n",
       "*   **Layers (from surface upwards):** Troposphere, Stratosphere, Mesosphere, Thermosphere, Exosphere\n",
       "*   **Function:** Protects life from harmful solar radiation, regulates temperature, and allows for weather patterns.\n",
       "*   **Unique Features:** The Ozone Layer in the stratosphere absorbs harmful UV radiation from the Sun. The Ionosphere reflects radio waves, aiding in long-distance communication.\n",
       "\n",
       "**Structure:**\n",
       "\n",
       "*   **Crust:** The outermost solid layer.\n",
       "    *   Oceanic Crust: Thinner, denser (composed mainly of basalt).\n",
       "    *   Continental Crust: Thicker, less dense (composed mainly of granite).\n",
       "*   **Mantle:** A thick, mostly solid layer beneath the crust, accounting for about 84% of Earth's volume. It is made up of silicate rocks rich in iron and magnesium.\n",
       "    *   Asthenosphere: A partially molten, plastic-like layer within the upper mantle, upon which the tectonic plates move.\n",
       "*   **Core:** The innermost region, divided into:\n",
       "    *   Outer Core: A liquid layer composed mainly of iron and nickel. The movement of this liquid is believed to generate Earth's magnetic field.\n",
       "    *   Inner Core: A solid, dense sphere also composed mainly of iron and nickel. Tremendous pressure keeps it solid despite extremely high temperatures.\n",
       "\n",
       "**Surface Features:**\n",
       "\n",
       "*   **Oceans:** Cover approximately 71% of Earth's surface.\n",
       "*   **Continents:** Large landmasses that make up the remaining 29%.\n",
       "*   **Mountains, Valleys, Deserts, Plains, Forests:** Diverse landscapes created by geological processes and erosion.\n",
       "*   **Tectonic Plates:** The Earth's lithosphere is broken into several large and small plates that are constantly moving and interacting, causing earthquakes, volcanoes, and mountain building.\n",
       "\n",
       "**Magnetic Field:**\n",
       "\n",
       "*   Generated by the movement of molten iron in the outer core.\n",
       "*   Protects Earth from harmful solar wind and cosmic radiation.\n",
       "*   Causes the aurora borealis (Northern Lights) and aurora australis (Southern Lights) near the poles.\n",
       "\n",
       "**Water:**\n",
       "\n",
       "*   Unique in our solar system for having abundant liquid water on its surface.\n",
       "*   Essential for all known forms of life.\n",
       "*   Exists in three states: solid (ice), liquid (water), and gas (water vapor).\n",
       "*   The water cycle (evaporation, condensation, precipitation) constantly replenishes freshwater resources.\n",
       "\n",
       "**Life:**\n",
       "\n",
       "*   The only known planet to harbor life.\n",
       "*   Extremely diverse ecosystems support a vast array of plant and animal species.\n",
       "*   Humans have significantly altered the planet through agriculture, urbanization, and industrialization.\n",
       "\n",
       "**Moon:**\n",
       "\n",
       "*   Earth has one natural satellite, the Moon.\n",
       "*   Tidally locked, so we only ever see one side of it.\n",
       "*   Influences Earth's tides.\n",
       "\n",
       "**Key Concepts and Processes:**\n",
       "\n",
       "*   **Plate Tectonics:** The theory explaining the movement of Earth's lithosphere, leading to earthquakes, volcanoes, and mountain formation.\n",
       "*   **Weathering and Erosion:** Processes that break down and transport rocks and soil, shaping the landscape.\n",
       "*   **The Carbon Cycle:** The complex cycle of carbon exchange between the atmosphere, oceans, land, and living organisms.\n",
       "*   **Greenhouse Effect:** The natural process where atmospheric gases trap heat, keeping Earth warm enough to support life. However, increased levels of greenhouse gases due to human activities are causing global warming and climate change.\n",
       "\n",
       "**Interesting Facts:**\n",
       "\n",
       "*   Earth is the densest planet in the Solar System.\n",
       "*   Earth is not perfectly round; it bulges at the equator.\n",
       "*   The highest point on Earth is Mount Everest, and the lowest is the Mariana Trench.\n",
       "*   A day on Earth is getting longer by about 1.7 milliseconds per century.\n",
       "\n",
       "**Challenges:**\n",
       "\n",
       "*   **Climate Change:**  A significant threat to the planet, driven by human activities that increase greenhouse gas emissions.\n",
       "*   **Pollution:**  Air, water, and soil pollution degrade ecosystems and harm human health.\n",
       "*   **Deforestation:**  The clearing of forests for agriculture and other purposes contributes to climate change and biodiversity loss.\n",
       "*   **Resource Depletion:**  The overuse of natural resources, such as water, minerals, and fossil fuels, threatens sustainability.\n",
       "*   **Biodiversity Loss:** The extinction of plant and animal species at an alarming rate.\n",
       "\n",
       "This is just a broad overview of Earth. Each of these topics has a wealth of information associated with it. If you'd like to focus on a specific aspect (geology, atmosphere, environment, etc.), just let me know, and I can provide more detail!\n"
      ],
      "text/plain": [
       "<IPython.core.display.Markdown object>"
      ]
     },
     "metadata": {},
     "output_type": "display_data"
    }
   ],
   "source": [
    "prompt = \"Tell me about Earth\"\n",
    "\n",
    "response = client.models.generate_content(model=MODEL_ID, contents=prompt)\n",
    "display(Markdown(response.text))"
   ]
  },
  {
   "cell_type": "markdown",
   "metadata": {
    "id": "4iyvEbteZnFL"
   },
   "source": [
    "✅ Recommended. The prompt below is specific and well-defined."
   ]
  },
  {
   "cell_type": "code",
   "execution_count": 9,
   "metadata": {
    "id": "JQ80z8urZnne",
    "tags": []
   },
   "outputs": [
    {
     "data": {
      "text/markdown": [
       "Okay, here's a list of factors that contribute to Earth's unique status compared to other known planets (as of today's understanding):\n",
       "\n",
       "**Key Factors for Life as We Know It:**\n",
       "\n",
       "*   **Liquid Water on the Surface:** This is arguably the most crucial.  Earth has a significant amount of liquid water covering about 71% of its surface. Liquid water is essential for the chemical reactions necessary for life, and it acts as a solvent and transport medium. While other planets and moons may have subsurface water, Earth's surface water is unique.\n",
       "\n",
       "*   **Oxygen-Rich Atmosphere:** Earth's atmosphere is approximately 21% oxygen. This high concentration of oxygen is a byproduct of photosynthesis by plants and algae. Most other planetary atmospheres are dominated by carbon dioxide, nitrogen, or hydrogen and helium. Oxygen is vital for complex life forms that rely on aerobic respiration.\n",
       "\n",
       "*   **Presence of a Strong Magnetic Field:** Generated by the Earth's iron core, the magnetic field deflects harmful solar wind and cosmic radiation, protecting the atmosphere and surface life from harmful radiation.\n",
       "\n",
       "*   **Plate Tectonics:** Earth is the only known planet with active plate tectonics. This process recycles materials between the Earth's interior and surface, regulates the carbon cycle, and contributes to long-term climate stability. Plate tectonics also plays a role in creating diverse landscapes and habitats.\n",
       "\n",
       "*   **Stable Climate:** While climate change is a serious issue, Earth's climate has been relatively stable over long geological timescales, allowing life to evolve and thrive. This stability is due to a combination of factors including the atmosphere, oceans, and plate tectonics.\n",
       "\n",
       "*   **Ozone Layer:** The ozone layer in the stratosphere absorbs most of the Sun's harmful ultraviolet (UV) radiation, protecting life on the surface.\n",
       "\n",
       "**Other Important Factors:**\n",
       "\n",
       "*   **Abundance of Carbon:** Carbon is the backbone of all known life. Earth has a significant amount of carbon in various forms (e.g., atmosphere, rocks, living organisms).\n",
       "\n",
       "*   **Proximity to the Sun:** Earth is located within the \"habitable zone\" or \"Goldilocks zone\" of our solar system. This means it's the right distance from the Sun to receive enough energy for liquid water to exist on the surface, but not so much that the water boils away.\n",
       "\n",
       "*   **A Large Moon:** Earth's relatively large moon stabilizes the planet's axial tilt, preventing extreme seasonal variations. The Moon also influences tides, which may have played a role in the origin of life.\n",
       "\n",
       "*   **The \"Right\" Size and Mass:** Earth's size and mass provide sufficient gravity to retain a substantial atmosphere and liquid water.\n",
       "\n",
       "*   **Geological Activity:**  Earth's internal heat drives volcanism and other geological processes that release gases and minerals essential for life and contribute to the formation of landmasses.\n",
       "\n",
       "*   **Biodiversity:** Earth has an incredibly diverse range of life forms, from microscopic bacteria to giant whales. This biodiversity contributes to the stability and resilience of ecosystems.\n",
       "\n",
       "**Important Considerations:**\n",
       "\n",
       "*   **We Only Know One Example:** Our understanding of what makes a planet habitable is based primarily on Earth.  There may be other ways for life to exist that we haven't yet discovered.\n",
       "\n",
       "*   **Habitability is a Spectrum:** Habitability is not a binary (habitable/unhabitable) condition. Planets can be more or less habitable depending on the specific conditions.\n",
       "\n",
       "*   **Ongoing Research:**  The search for extraterrestrial life and the study of exoplanets are ongoing fields of research. Our understanding of planetary habitability will continue to evolve as we learn more.\n",
       "\n",
       "This list provides a comprehensive overview of the factors that make Earth unique. Remember that the combination of these factors, rather than any single factor in isolation, is what makes Earth such a special and life-supporting planet.\n"
      ],
      "text/plain": [
       "<IPython.core.display.Markdown object>"
      ]
     },
     "metadata": {},
     "output_type": "display_data"
    }
   ],
   "source": [
    "prompt = \"Generate a list of ways that makes Earth unique compared to other planets\"\n",
    "\n",
    "response = client.models.generate_content(model=MODEL_ID, contents=prompt)\n",
    "display(Markdown(response.text))"
   ]
  },
  {
   "cell_type": "markdown",
   "metadata": {
    "id": "R5kmfZYHZsJ7"
   },
   "source": [
    "### Ask one task at a time"
   ]
  },
  {
   "cell_type": "markdown",
   "metadata": {
    "id": "rsAezxeYZuUN"
   },
   "source": [
    "🛑 Not recommended. The prompt below has two parts to the question that could be asked separately."
   ]
  },
  {
   "cell_type": "code",
   "execution_count": 10,
   "metadata": {
    "id": "ElywPXpuZtWf",
    "tags": []
   },
   "outputs": [
    {
     "data": {
      "text/markdown": [
       "Okay, let's tackle both of these questions!\n",
       "\n",
       "**Best Method of Boiling Water:**\n",
       "\n",
       "There isn't a single \"best\" method for boiling water, as it depends on factors like speed, energy source, convenience, and the amount of water needed. Here's a breakdown of common methods and their pros and cons:\n",
       "\n",
       "*   **Electric Kettle:**\n",
       "    *   **Pros:** Fast, energy-efficient (especially if you only boil the amount you need), convenient, often has auto shut-off features, portable.\n",
       "    *   **Cons:** Requires electricity, can be noisy, typically smaller capacity compared to stovetop pots.\n",
       "    *   **Best For:** Everyday use, quickly boiling small to medium amounts of water for tea, coffee, etc.\n",
       "\n",
       "*   **Stovetop Kettle (Whistling Kettle):**\n",
       "    *   **Pros:** Doesn't require electricity, good for larger amounts of water, the whistle is a helpful alert.\n",
       "    *   **Cons:** Slower than an electric kettle, can be dangerous if left unattended (boils dry), requires monitoring.\n",
       "    *   **Best For:** Boiling larger amounts of water, situations where electricity isn't available, traditional preference.\n",
       "\n",
       "*   **Stovetop Pot (with lid):**\n",
       "    *   **Pros:** Versatile, can be used for any size of water amount, no specialized equipment needed.\n",
       "    *   **Cons:** Slower than electric kettles, less energy-efficient (especially without a lid), requires more monitoring.\n",
       "    *   **Best For:** Boiling large quantities of water, when you don't have a kettle readily available, or if you're using the water for cooking something else.\n",
       "\n",
       "*   **Microwave:**\n",
       "    *   **Pros:** Fast for small amounts of water.\n",
       "    *   **Cons:** Can be dangerous (superheating can cause explosive boiling), not energy efficient, doesn't boil evenly, can impart a plastic taste to the water from some containers.\n",
       "    *   **Best For:** Small amounts of water in a pinch, with caution and in a microwave-safe container.  It's generally not recommended for regular use.\n",
       "\n",
       "**Summary Table:**\n",
       "\n",
       "| Method         | Speed      | Efficiency | Convenience | Notes                                                                      |\n",
       "| --------------- | ---------- | ---------- | ----------- | -------------------------------------------------------------------------- |\n",
       "| Electric Kettle | Very Fast | High       | High        | Best overall for most situations.                                          |\n",
       "| Stovetop Kettle | Medium     | Medium     | Medium      | Good for larger quantities, but requires monitoring.                       |\n",
       "| Stovetop Pot   | Slow       | Low        | Medium      | Versatile, but requires the most attention and is least efficient.          |\n",
       "| Microwave       | Fast       | Low        | Low         | Use with caution, only for small amounts in a microwave-safe container. |\n",
       "\n",
       "**Why is the Sky Blue?**\n",
       "\n",
       "The sky is blue due to a phenomenon called **Rayleigh scattering**. Here's the simple explanation:\n",
       "\n",
       "1.  **Sunlight and the Atmosphere:** Sunlight is made up of all the colors of the rainbow.  When sunlight enters the Earth's atmosphere, it collides with tiny air molecules (mostly nitrogen and oxygen).\n",
       "\n",
       "2.  **Scattering of Light:** This collision causes the sunlight to scatter in different directions.\n",
       "\n",
       "3.  **Rayleigh Scattering and Wavelength:** Rayleigh scattering is *more* effective at scattering shorter wavelengths of light than longer wavelengths.  Blue and violet light have the shortest wavelengths in the visible spectrum.\n",
       "\n",
       "4.  **Why Blue, Not Violet?** While violet light is scattered even *more* than blue light, our eyes are less sensitive to violet, and the sun emits slightly less violet light to begin with.  Also, some of the violet light gets absorbed higher in the atmosphere.  The combined effect makes the sky appear predominantly blue.\n",
       "\n",
       "**In a nutshell:** The air molecules scatter blue light from the sun *more* than they scatter other colors, so we see blue light coming from all directions when we look at the sky.\n",
       "\n",
       "**At Sunrise/Sunset:**\n",
       "\n",
       "At sunrise and sunset, the sunlight has to travel through *much more* of the atmosphere to reach our eyes.  This longer path means that most of the blue light is scattered away before it gets to us.  The longer wavelengths of light, like red and orange, are scattered less, so they are the colors we see at sunrise and sunset.\n"
      ],
      "text/plain": [
       "<IPython.core.display.Markdown object>"
      ]
     },
     "metadata": {},
     "output_type": "display_data"
    }
   ],
   "source": [
    "prompt = \"What's the best method of boiling water and why is the sky blue?\"\n",
    "\n",
    "response = client.models.generate_content(model=MODEL_ID, contents=prompt)\n",
    "display(Markdown(response.text))"
   ]
  },
  {
   "cell_type": "markdown",
   "metadata": {
    "id": "ejzahazBZ8vk"
   },
   "source": [
    "✅ Recommended. The prompts below asks one task a time."
   ]
  },
  {
   "cell_type": "code",
   "execution_count": 11,
   "metadata": {
    "id": "C5ckp2F0Z_Ba",
    "tags": []
   },
   "outputs": [
    {
     "data": {
      "text/markdown": [
       "The \"best\" method for boiling water depends on a few factors:\n",
       "\n",
       "*   **Speed:** How quickly do you need the water boiled?\n",
       "*   **Energy Efficiency:** How much do you want to conserve energy?\n",
       "*   **Cost:** How much do you want to spend upfront or in ongoing energy bills?\n",
       "*   **Safety:** How safe is the method to use?\n",
       "*   **Convenience:** How easy is it to use and maintain?\n",
       "*   **Quantity:** How much water do you need to boil?\n",
       "\n",
       "Here's a breakdown of the most common methods, weighing the pros and cons of each:\n",
       "\n",
       "**1. Electric Kettle:**\n",
       "\n",
       "*   **Speed:** Very fast, often the fastest method for smaller quantities.\n",
       "*   **Energy Efficiency:** Generally quite energy-efficient, as they heat only the water they need and often have automatic shut-off.\n",
       "*   **Cost:** Relatively inexpensive to purchase.\n",
       "*   **Safety:** Safe, with automatic shut-off features.\n",
       "*   **Convenience:** Very convenient, easy to use and clean.\n",
       "*   **Quantity:** Best for smaller quantities, usually up to 1.7 liters.\n",
       "*   **Overall:** Generally considered the **best all-around method** for most people, especially for daily use.\n",
       "\n",
       "**2. Stovetop Kettle:**\n",
       "\n",
       "*   **Speed:** Can be relatively fast, but typically slower than an electric kettle.\n",
       "*   **Energy Efficiency:** Less efficient than electric kettles, as they heat the entire stovetop element.\n",
       "*   **Cost:** Kettles are inexpensive, but stoves can be expensive.\n",
       "*   **Safety:** Can be safe but requires more attention than electric kettles (potential for overheating and whistling).\n",
       "*   **Convenience:** Less convenient than electric kettles, requires manual monitoring.\n",
       "*   **Quantity:** Can handle larger quantities depending on the kettle size.\n",
       "*   **Overall:** A good option if you don't have an electric kettle or prefer a more traditional method.\n",
       "\n",
       "**3. Microwave:**\n",
       "\n",
       "*   **Speed:** Relatively fast.\n",
       "*   **Energy Efficiency:** Potentially energy efficient as it heats the water directly.\n",
       "*   **Cost:** Most people already own a microwave.\n",
       "*   **Safety:** **Can be dangerous if not done properly.** Superheating (water exceeding boiling point without bubbling) can occur, leading to explosive boiling when disturbed. Always use a microwave-safe container and avoid adding anything to the water while heating.\n",
       "*   **Convenience:** Convenient for small amounts of water.\n",
       "*   **Quantity:** Best for very small quantities.\n",
       "*   **Overall:** **Not recommended for general use due to the risk of superheating.**\n",
       "\n",
       "**4. Stovetop Pot (without a kettle):**\n",
       "\n",
       "*   **Speed:** Can be slow depending on the pot size and stovetop.\n",
       "*   **Energy Efficiency:** Less efficient than kettles, as heat is lost to the air.\n",
       "*   **Cost:** Most people already own pots.\n",
       "*   **Safety:** Safe, but requires monitoring.\n",
       "*   **Convenience:** Requires monitoring and can be messy.\n",
       "*   **Quantity:** Can handle any quantity, depending on pot size.\n",
       "*   **Overall:** A workable option if you don't have a kettle, but generally not the most efficient or convenient.\n",
       "\n",
       "**5. Induction Cooktop with Pot or Kettle:**\n",
       "\n",
       "*   **Speed:** Very fast, often faster than other stovetop methods.\n",
       "*   **Energy Efficiency:** Very efficient because the heat is directly transferred to the pot or kettle.\n",
       "*   **Cost:** Induction cooktops can be more expensive than other stovetops.\n",
       "*   **Safety:** Safe, as the cooktop doesn't get as hot as traditional electric or gas.\n",
       "*   **Convenience:** Convenient, responsive and easy to clean.\n",
       "*   **Quantity:** Can handle any quantity, depending on the pot/kettle size.\n",
       "*   **Overall:** An excellent method if you have an induction cooktop.\n",
       "\n",
       "**Summary Table:**\n",
       "\n",
       "| Method            | Speed   | Energy Efficiency | Cost  | Safety       | Convenience | Quantity   | Best For                                     |\n",
       "|--------------------|---------|-------------------|-------|-------------|-------------|------------|-----------------------------------------------|\n",
       "| Electric Kettle   | Fastest  | Very Efficient   | Low   | Very Safe   | Very        | Small      | Most general use, quick boiling            |\n",
       "| Stovetop Kettle   | Fast    | Less Efficient   | Low   | Safe        | Moderate    | Medium/Large| Traditionalists, large quantities             |\n",
       "| Microwave          | Fast    | Efficient        | Low   | **Dangerous** | Very        | Very Small | **Avoid**, unless carefully monitored and very small quantity |\n",
       "| Stovetop Pot       | Slow    | Least Efficient  | Low   | Safe        | Less        | Any        | When no kettle is available                   |\n",
       "| Induction Cooktop | Fastest  | Very Efficient   | Higher| Very Safe   | Very        | Any        | Those with induction cooktops               |\n",
       "\n",
       "**In conclusion:**\n",
       "\n",
       "For most people, an **electric kettle is the best method** for boiling water due to its speed, efficiency, safety, and convenience. However, consider your specific needs and resources when making your choice.\n"
      ],
      "text/plain": [
       "<IPython.core.display.Markdown object>"
      ]
     },
     "metadata": {},
     "output_type": "display_data"
    }
   ],
   "source": [
    "prompt = \"What's the best method of boiling water?\"\n",
    "\n",
    "response = client.models.generate_content(model=MODEL_ID, contents=prompt)\n",
    "display(Markdown(response.text))"
   ]
  },
  {
   "cell_type": "code",
   "execution_count": 12,
   "metadata": {
    "id": "KwUzhud4aA89",
    "tags": []
   },
   "outputs": [
    {
     "data": {
      "text/markdown": [
       "The sky is blue because of a phenomenon called **Rayleigh scattering**. Here's a breakdown:\n",
       "\n",
       "*   **Sunlight and its Colors:** Sunlight is actually made up of all the colors of the rainbow.\n",
       "*   **Entering the Atmosphere:** When sunlight enters the Earth's atmosphere, it collides with tiny air molecules (mostly nitrogen and oxygen).\n",
       "*   **Scattering:** This collision causes the light to scatter in different directions.\n",
       "*   **Rayleigh Scattering's Role:** Rayleigh scattering is more effective at scattering shorter wavelengths of light.  Blue and violet light have shorter wavelengths than other colors like red, orange, and yellow.\n",
       "*   **Why Blue and Not Violet?** Violet light is scattered even more than blue light. However, the sun emits less violet light than blue light, and our eyes are also more sensitive to blue. This means that the blue light is more prominent and is what we perceive the most.\n",
       "\n",
       "**In simple terms:** Think of the air molecules as tiny obstacles. When sunlight hits them, the blue and violet light bounce off more easily than other colors, spreading those colors across the sky. Because blue is more prevalent in sunlight and our eyes are more sensitive to it, we see a blue sky.\n",
       "\n",
       "**Why sunsets are red:** During sunrise and sunset, the sunlight has to travel through more of the atmosphere to reach our eyes.  This means that the blue light has been scattered away even *more* before it gets to us. The longer wavelengths of light, like red and orange, are able to penetrate through the atmosphere better, resulting in those beautiful red and orange hues."
      ],
      "text/plain": [
       "<IPython.core.display.Markdown object>"
      ]
     },
     "metadata": {},
     "output_type": "display_data"
    }
   ],
   "source": [
    "prompt = \"Why is the sky blue?\"\n",
    "\n",
    "response = client.models.generate_content(model=MODEL_ID, contents=prompt)\n",
    "display(Markdown(response.text))"
   ]
  },
  {
   "cell_type": "markdown",
   "metadata": {
    "id": "PJIL2RTQaGcT"
   },
   "source": [
    "### Watch out for hallucinations"
   ]
  },
  {
   "cell_type": "markdown",
   "metadata": {
    "id": "8Y8kYxrSaHE9"
   },
   "source": [
    "Although LLMs have been trained on a large amount of data, they can generate text containing statements not grounded in truth or reality; these responses from the LLM are often referred to as \"hallucinations\" due to their limited memorization capabilities. Note that simply prompting the LLM to provide a citation isn't a fix to this problem, as there are instances of LLMs providing false or inaccurate citations. Dealing with hallucinations is a fundamental challenge of LLMs and an ongoing research area, so it is important to be cognizant that LLMs may seem to give you confident, correct-sounding statements that are in fact incorrect.\n",
    "\n",
    "Note that if you intend to use LLMs for the creative use cases, hallucinating could actually be quite useful."
   ]
  },
  {
   "cell_type": "markdown",
   "metadata": {
    "id": "8NY5nAGeaJYS"
   },
   "source": [
    "Try the prompt like the one below repeatedly. We set the temperature to `1.0` so that it takes more risks in its choices. It's possible that it may provide an inaccurate, but confident answer."
   ]
  },
  {
   "cell_type": "code",
   "execution_count": 13,
   "metadata": {
    "id": "QALPjEILaM62",
    "tags": []
   },
   "outputs": [
    {
     "data": {
      "text/markdown": [
       "Today is Wednesday, November 1, 2023.\n"
      ],
      "text/plain": [
       "<IPython.core.display.Markdown object>"
      ]
     },
     "metadata": {},
     "output_type": "display_data"
    }
   ],
   "source": [
    "generation_config = GenerateContentConfig(temperature=1.0)\n",
    "\n",
    "prompt = \"What day is it today?\"\n",
    "\n",
    "response = client.models.generate_content(model=MODEL_ID, contents=prompt)\n",
    "display(Markdown(response.text))"
   ]
  },
  {
   "cell_type": "markdown",
   "metadata": {
    "id": "BRkwzbgRbhKt"
   },
   "source": [
    "Since LLMs do not have access to real-time information without further integrations, you may have noticed it hallucinates what day it is today in some of the outputs."
   ]
  },
  {
   "cell_type": "markdown",
   "metadata": {},
   "source": [
    "## Reduce Output Variability"
   ]
  },
  {
   "cell_type": "markdown",
   "metadata": {
    "id": "3c811e310d02"
   },
   "source": [
    "### Using system instructions to guardrail the model from irrelevant responses\n",
    "\n",
    "How can we attempt to reduce the chances of irrelevant responses and hallucinations?\n",
    "\n",
    "One way is to provide the LLM with [system instructions](https://cloud.google.com/vertex-ai/generative-ai/docs/multimodal/send-chat-prompts-gemini#system-instructions).\n",
    "\n",
    "Let's see how system instructions works and how you can use them to reduce hallucinations or irrelevant questions for a travel chatbot.\n",
    "\n",
    "Suppose we ask a simple question about one of Italy's most famous tourist spots."
   ]
  },
  {
   "cell_type": "code",
   "execution_count": 14,
   "metadata": {
    "id": "rB6zJU76biFK",
    "tags": []
   },
   "outputs": [
    {
     "data": {
      "text/markdown": [
       "Milan, Italy offers a plethora of fantastic sightseeing opportunities! Here are some of the top spots:\n",
       "\n",
       "*   **Duomo di Milano:** The iconic Milan Cathedral is a must-see. Its stunning architecture and rooftop views are unforgettable.\n",
       "*   **Galleria Vittorio Emanuele II:** A beautiful and historic shopping arcade adjacent to the Duomo.\n",
       "*   **Teatro alla Scala:** One of the world's most famous opera houses.\n",
       "*   **Sforza Castle:** A historic castle with museums and art collections.\n",
       "*   **Santa Maria delle Grazie:** Home to Leonardo da Vinci's \"The Last Supper\". (Reservations are essential!)\n",
       "*   **Brera district:** A charming neighborhood with art galleries, boutiques, and cafes.\n",
       "*   **Navigli district:** A canal district with a vibrant nightlife and picturesque views."
      ],
      "text/plain": [
       "<IPython.core.display.Markdown object>"
      ]
     },
     "metadata": {},
     "output_type": "display_data"
    }
   ],
   "source": [
    "generation_config = GenerateContentConfig(temperature=1.0)\n",
    "\n",
    "chat = client.chats.create(\n",
    "    model=MODEL_ID,\n",
    "    config=GenerateContentConfig(\n",
    "        system_instruction=[\n",
    "            \"Hello! You are an AI chatbot for a travel web site.\",\n",
    "            \"Your mission is to provide helpful queries for travelers.\",\n",
    "            \"Remember that before you answer a question, you must check to see if it complies with your mission.\",\n",
    "            \"If not, you can say, Sorry I can't answer that question.\",\n",
    "        ]\n",
    "    ),\n",
    ")\n",
    "\n",
    "prompt = \"What is the best place for sightseeing in Milan, Italy?\"\n",
    "\n",
    "response = chat.send_message(prompt)\n",
    "display(Markdown(response.text))"
   ]
  },
  {
   "cell_type": "markdown",
   "metadata": {
    "id": "WZa-Qcf9cF4A"
   },
   "source": [
    "Now let us pretend to be a user asks the chatbot a question that is unrelated to travel."
   ]
  },
  {
   "cell_type": "code",
   "execution_count": 15,
   "metadata": {
    "id": "AZKBIDr2cGnu",
    "tags": []
   },
   "outputs": [
    {
     "data": {
      "text/markdown": [
       "Milan, Italy, offers many fantastic sightseeing opportunities! Here are some of the top spots:\n",
       "\n",
       "*   **Duomo di Milano:** The iconic Milan Cathedral is a must-see. Its stunning architecture and rooftop views are unforgettable.\n",
       "*   **Galleria Vittorio Emanuele II:** A beautiful and historic shopping arcade adjacent to the Duomo.\n",
       "*   **Teatro alla Scala:** One of the world's most famous opera houses.\n",
       "*   **Sforza Castle:** A historic castle with museums and art collections.\n",
       "*   **Santa Maria delle Grazie:** Home to Leonardo da Vinci's \"The Last Supper\". (Reservations are essential!)\n",
       "*   **Brera district:** A charming neighborhood with art galleries, boutiques, and cafes.\n",
       "*   **Navigli district:** A canal district with a vibrant nightlife and picturesque views."
      ],
      "text/plain": [
       "<IPython.core.display.Markdown object>"
      ]
     },
     "metadata": {},
     "output_type": "display_data"
    }
   ],
   "source": [
    "prompt = \"What is the best place for sightseeing in Milan, Italy?\"\n",
    "\n",
    "response = chat.send_message(prompt)\n",
    "display(Markdown(response.text))"
   ]
  },
  {
   "cell_type": "markdown",
   "metadata": {
    "id": "JiUYIhwpctCy"
   },
   "source": [
    "You can see that this way, a guardrail in the prompt prevented the chatbot from veering off course."
   ]
  },
  {
   "cell_type": "markdown",
   "metadata": {
    "id": "ZuuDhA37cvmP"
   },
   "source": [
    "### Turn generative tasks into classification tasks to reduce output variability"
   ]
  },
  {
   "cell_type": "markdown",
   "metadata": {
    "id": "kUCUrsUzczmb"
   },
   "source": [
    "#### Generative tasks lead to higher output variability"
   ]
  },
  {
   "cell_type": "markdown",
   "metadata": {
    "id": "a1xASHAkc46n"
   },
   "source": [
    "The prompt below results in an open-ended response, useful for brainstorming, but response is highly variable."
   ]
  },
  {
   "cell_type": "code",
   "execution_count": 16,
   "metadata": {
    "id": "nPfXQWIacwRf",
    "tags": []
   },
   "outputs": [
    {
     "data": {
      "text/markdown": [
       "Okay, based on your high school level and the desire to improve your programming skills, I'm going to recommend a project that's both challenging and rewarding, with plenty of room for customization:\n",
       "\n",
       "**Project: A Text-Based Adventure Game with Inventory and Combat**\n",
       "\n",
       "**Why this project is good:**\n",
       "\n",
       "*   **Applies Core Concepts:** It forces you to use fundamental programming concepts like:\n",
       "    *   **Variables:**  Storing player health, location, inventory items, enemy stats, etc.\n",
       "    *   **Data Structures:** Lists (for inventory), dictionaries (for locations and their descriptions/items), potentially classes (for Player and Enemy objects).\n",
       "    *   **Conditional Statements (if/else):**  Handling player choices, combat outcomes, and game logic.\n",
       "    *   **Loops (while/for):**  For the main game loop, inventory management, and repeating actions like combat rounds.\n",
       "    *   **Functions:**  To break down the code into manageable pieces (e.g., `display_location()`, `take_item()`, `combat()`).\n",
       "    *   **Input/Output:**  Getting player input and displaying game information.\n",
       "*   **Scalability:** You can start small and add complexity as you progress.\n",
       "*   **Creativity:**  You get to design the world, the story, and the challenges.\n",
       "*   **Problem-Solving:**  You'll encounter bugs and logical errors that you'll need to debug.\n",
       "*   **Fun!** (Hopefully!)  Making a game can be highly motivating.\n",
       "\n",
       "**Here's a suggested breakdown of how to approach the project:**\n",
       "\n",
       "**Phase 1: Basic Movement and Location Description**\n",
       "\n",
       "1.  **Choose a Language:**  I recommend Python for its readability and extensive libraries, but Java, C++, or C# are also good choices.\n",
       "2.  **Data Representation:**  Decide how you'll represent locations. A dictionary is a good starting point:\n",
       "\n",
       "    ```python\n",
       "    locations = {\n",
       "        \"forest\": {\n",
       "            \"description\": \"You are in a dark forest.  The trees are tall and imposing.\",\n",
       "            \"items\": [\"sword\", \"torch\"]\n",
       "        },\n",
       "        \"cave\": {\n",
       "            \"description\": \"You stand at the entrance to a damp cave.\",\n",
       "            \"items\": [\"potion\"]\n",
       "        }\n",
       "    }\n",
       "    current_location = \"forest\"\n",
       "    ```\n",
       "\n",
       "3.  **Movement:**  Implement simple movement between locations using player input. For example:\n",
       "\n",
       "    ```python\n",
       "    def display_location(location):\n",
       "      print(locations[location][\"description\"])\n",
       "      print(\"Items here: \", locations[location][\"items\"])\n",
       "\n",
       "    def get_player_command():\n",
       "        command = input(\"> \").lower()  # Get input and convert to lowercase\n",
       "        return command\n",
       "\n",
       "    while True:\n",
       "      display_location(current_location)\n",
       "      command = get_player_command()\n",
       "\n",
       "      if command == \"north\":\n",
       "          # implement to change current_location\n",
       "          pass # Replace this code to change locations or print that nothing is in this direction\n",
       "      elif command == \"south\":\n",
       "          # similar to above\n",
       "          pass\n",
       "      elif command == \"quit\":\n",
       "          break\n",
       "      else:\n",
       "          print(\"Invalid command.\")\n",
       "    ```\n",
       "4.  **Display Description:**  Display the description of the current location when the player enters it.\n",
       "\n",
       "**Phase 2: Inventory**\n",
       "\n",
       "1.  **Inventory List:** Create a list to represent the player's inventory:\n",
       "\n",
       "    ```python\n",
       "    inventory = []\n",
       "    ```\n",
       "\n",
       "2.  **`take_item` and `drop_item` Functions:** Implement functions to add and remove items from the inventory.\n",
       "\n",
       "    ```python\n",
       "    def take_item(item):\n",
       "        if item in locations[current_location][\"items\"]:\n",
       "            inventory.append(item)\n",
       "            locations[current_location][\"items\"].remove(item)\n",
       "            print(f\"You took the {item}.\")\n",
       "        else:\n",
       "            print(f\"There is no {item} here.\")\n",
       "\n",
       "    def drop_item(item):\n",
       "        if item in inventory:\n",
       "            inventory.remove(item)\n",
       "            locations[current_location][\"items\"].append(item)\n",
       "            print(f\"You dropped the {item}.\")\n",
       "        else:\n",
       "            print(f\"You don't have a {item}.\")\n",
       "    ```\n",
       "\n",
       "3.  **Implement Commands:** Add commands like \"take [item]\" and \"drop [item]\" to the game.  Modify the `get_player_command` function to handle these.\n",
       "4.  **`inventory` Command:** Add a command to display the player's current inventory.\n",
       "\n",
       "**Phase 3: Combat**\n",
       "\n",
       "1.  **Enemy Class (or Dictionary):**  If you're using Python, create a class for enemies. Otherwise, use a dictionary.\n",
       "\n",
       "    ```python\n",
       "    class Enemy:\n",
       "        def __init__(self, name, health, attack):\n",
       "            self.name = name\n",
       "            self.health = health\n",
       "            self.attack = attack\n",
       "\n",
       "    goblin = Enemy(\"Goblin\", 20, 5)\n",
       "    ```\n",
       "    or a dictionary\n",
       "\n",
       "    ```python\n",
       "    enemies = {\n",
       "        \"goblin\": {\n",
       "            \"health\": 20,\n",
       "            \"attack\": 5\n",
       "        }\n",
       "    }\n",
       "    ```\n",
       "\n",
       "2.  **Combat Function:**  Create a function to handle combat.  This will involve:\n",
       "\n",
       "    *   Player attack (using a weapon from their inventory, perhaps).\n",
       "    *   Enemy attack.\n",
       "    *   Checking for win/loss conditions (player health <= 0 or enemy health <= 0).\n",
       "    *   Displaying combat messages.\n",
       "\n",
       "3.  **Enemy Encounters:**  Randomly place enemies in certain locations or trigger encounters based on player actions.\n",
       "\n",
       "**Phase 4: Expanding and Polishing**\n",
       "\n",
       "1.  **More Locations and Items:** Add more locations to the game world and more items with different properties.\n",
       "2.  **Puzzles:** Add simple puzzles that the player needs to solve to progress.\n",
       "3.  **Story:** Develop a more engaging story with a clear objective.\n",
       "4.  **User Interface (UI):**  Consider using libraries like `curses` in Python (for terminal-based UI) or a GUI library like Tkinter (less ideal for text-based games).  This will improve the presentation of the game.\n",
       "5.  **Save/Load:** Implement a save/load feature so the player can save their progress.\n",
       "6.  **Sound Effects:** If you're feeling ambitious, add sound effects using a library like `pygame` (Python).\n",
       "\n",
       "**Example Code Snippet (Integrating Combat):**\n",
       "\n",
       "```python\n",
       "import random\n",
       "\n",
       "def combat(enemy_name):\n",
       "    enemy_health = enemies[enemy_name][\"health\"]\n",
       "    player_health = 50 #example\n",
       "\n",
       "    print(f\"A wild {enemy_name} appears!\")\n",
       "\n",
       "    while player_health > 0 and enemy_health > 0:\n",
       "        # Player's turn\n",
       "        print(\"\\nYour turn!\")\n",
       "        attack_damage = 10  # You could make this depend on the player's weapon\n",
       "        enemy_health -= attack_damage\n",
       "        print(f\"You hit the {enemy_name} for {attack_damage} damage.\")\n",
       "        if enemy_health <= 0:\n",
       "            print(f\"You defeated the {enemy_name}!\")\n",
       "            return # Exit the combat function\n",
       "\n",
       "        # Enemy's turn\n",
       "        enemy_attack_damage = enemies[enemy_name][\"attack\"]\n",
       "        player_health -= enemy_attack_damage\n",
       "        print(f\"The {enemy_name} hits you for {enemy_attack_damage} damage.\")\n",
       "        print(f\"Your health: {player_health}, {enemy_name}'s health: {enemy_health}\")\n",
       "\n",
       "    if player_health <= 0:\n",
       "        print(\"You have been defeated!\")\n",
       "        # Game Over logic here.\n",
       "```\n",
       "\n",
       "**Tips for Success:**\n",
       "\n",
       "*   **Start Small:**  Don't try to implement everything at once. Focus on getting the basic movement and location descriptions working first.\n",
       "*   **Break it Down:** Divide the project into smaller, manageable tasks.\n",
       "*   **Test Regularly:**  Test your code frequently to catch bugs early.\n",
       "*   **Use Version Control (Git):** Learn to use Git and GitHub to track your changes and collaborate with others if you want.\n",
       "*   **Ask for Help:**  Don't be afraid to ask for help from teachers, online forums, or friends who are experienced programmers.\n",
       "*   **Document Your Code:** Write comments to explain what your code does.  This will make it easier to understand later.\n",
       "*   **Be Patient:**  Programming can be challenging. Don't get discouraged if you encounter problems.  Keep learning and experimenting.\n",
       "\n",
       "**Alternative, Smaller Project Options (If Text-Based Adventure Seems Too Daunting):**\n",
       "\n",
       "*   **Simple Calculator:** Create a calculator that can perform basic arithmetic operations. Add more advanced functions (e.g., square root, trigonometric functions) for a challenge.\n",
       "*   **Number Guessing Game:**  The computer generates a random number, and the player has to guess it. Provide hints (higher/lower).\n",
       "*   **To-Do List Application:**  A simple command-line application to add, remove, and view items in a to-do list.\n",
       "*   **Mad Libs Generator:**  Ask the user for different types of words (noun, verb, adjective) and then insert them into a pre-written story.\n",
       "\n",
       "No matter which project you choose, the key is to **learn by doing.**  Good luck, and have fun! Let me know if you have any other questions.\n"
      ],
      "text/plain": [
       "<IPython.core.display.Markdown object>"
      ]
     },
     "metadata": {},
     "output_type": "display_data"
    }
   ],
   "source": [
    "prompt = \"I'm a high school student. Recommend me a programming activity to improve my skills.\"\n",
    "\n",
    "response = client.models.generate_content(model=MODEL_ID, contents=prompt)\n",
    "display(Markdown(response.text))"
   ]
  },
  {
   "cell_type": "markdown",
   "metadata": {
    "id": "iAmm9wPYc_1o"
   },
   "source": [
    "#### Classification tasks reduces output variability"
   ]
  },
  {
   "cell_type": "markdown",
   "metadata": {
    "id": "VvRpK_0GdCpf"
   },
   "source": [
    "The prompt below results in a choice and may be useful if you want the output to be easier to control."
   ]
  },
  {
   "cell_type": "code",
   "execution_count": 17,
   "metadata": {
    "id": "kYDKh0r2dAqo",
    "tags": []
   },
   "outputs": [
    {
     "data": {
      "text/markdown": [
       "Okay, for a high school student looking to learn a programming language, I would strongly recommend **a) Learn Python** and here's why, compared to JavaScript and Fortran:\n",
       "\n",
       "**1. Python is Generally Easier to Learn and More Beginner-Friendly:**\n",
       "\n",
       "*   **Syntax:** Python has a very clean and readable syntax, resembling plain English more than many other languages. This makes it easier to understand the basic concepts and start writing code quickly.  JavaScript can be a bit quirky in its syntax, especially for beginners, and Fortran is just...old-school.\n",
       "*   **Gentle Learning Curve:** Python lets you start with simple tasks and gradually build complexity. You don't need to worry about complex memory management or strict type declarations early on (though you can learn about those later).\n",
       "*   **Large and Supportive Community:** Because it's so popular for beginners, Python has a massive online community. This means tons of tutorials, documentation, forums, and people willing to help you when you get stuck.\n",
       "\n",
       "**2. Python Has Broad Applicability and Career Relevance:**\n",
       "\n",
       "*   **Versatile:** Python is used in a wide range of fields, including:\n",
       "    *   **Web Development:** (with frameworks like Django and Flask)\n",
       "    *   **Data Science and Machine Learning:** (a *huge* area right now, with libraries like NumPy, Pandas, Scikit-learn, TensorFlow)\n",
       "    *   **Scripting and Automation:** Automating repetitive tasks, system administration.\n",
       "    *   **Game Development:** (with libraries like Pygame)\n",
       "    *   **Scientific Computing:**\n",
       "    *   **Education:** It's used to teach programming in many universities.\n",
       "*   **Job Market:** Python skills are in high demand in the job market. Knowing Python can open doors to internships and future career opportunities.\n",
       "\n",
       "**3. Python's Ecosystem is Excellent:**\n",
       "\n",
       "*   **Extensive Libraries:** Python has a vast collection of pre-built libraries and modules that can do almost anything. This saves you from having to write everything from scratch.\n",
       "*   **Data Science Dominance:** If you're interested in data science, machine learning, or artificial intelligence, Python is *the* language to learn.\n",
       "\n",
       "**Why Not JavaScript or Fortran Right Now?**\n",
       "\n",
       "*   **JavaScript:** JavaScript is essential for front-end web development (making websites interactive).  It's also used for back-end development (Node.js). However:\n",
       "    *   It can be confusing for beginners due to its asynchronous nature and the complexities of the web browser environment.\n",
       "    *   You often need to learn HTML and CSS alongside JavaScript to build meaningful web applications. This adds to the initial learning curve.\n",
       "    *   While JavaScript is extremely important, starting with Python will give you a stronger foundation in general programming concepts. You can always learn JavaScript later.  In fact, many programmers learn Python *first* and then move to JavaScript.\n",
       "*   **Fortran:** Fortran is a very old language, primarily used in scientific and engineering applications (e.g., climate modeling, fluid dynamics).\n",
       "    *   It's highly specialized.\n",
       "    *   The job market for Fortran developers is much smaller than for Python or JavaScript developers.\n",
       "    *   While Fortran is powerful in its niche, it's not the best choice for a general-purpose language or for exploring broader programming concepts. It's definitely not a good starting point.\n",
       "\n",
       "**In summary:**\n",
       "\n",
       "**Python is the best choice for a high school student starting to learn programming because it's easy to learn, versatile, and has a strong community and job market demand.** It will give you a solid foundation in programming concepts and open doors to various fields.  You can always explore JavaScript or other languages later, but Python is the most beneficial starting point.\n",
       "\n",
       "**Here's a suggested path:**\n",
       "\n",
       "1.  **Learn Python basics:**  Focus on variables, data types, loops, conditional statements, functions, and basic data structures (lists, dictionaries).\n",
       "2.  **Work on small projects:** Build simple games (e.g., number guessing game, text-based adventure), a calculator, or a program to analyze text.\n",
       "3.  **Explore Python libraries:**  Learn about libraries like `requests` (for making web requests), `matplotlib` (for plotting data), or `Pygame` (for game development).\n",
       "4.  **Consider online courses or tutorials:**  Websites like Codecademy, Coursera, edX, and freeCodeCamp offer excellent Python courses for beginners.\n",
       "5.  **Practice consistently:**  The key to learning any programming language is practice. Set aside time each day or week to code.\n",
       "Good luck!\n"
      ],
      "text/plain": [
       "<IPython.core.display.Markdown object>"
      ]
     },
     "metadata": {},
     "output_type": "display_data"
    }
   ],
   "source": [
    "prompt = \"\"\"I'm a high school student. Which of these activities do you suggest and why:\n",
    "a) learn Python\n",
    "b) learn JavaScript\n",
    "c) learn Fortran\n",
    "\"\"\"\n",
    "\n",
    "response = client.models.generate_content(model=MODEL_ID, contents=prompt)\n",
    "display(Markdown(response.text))"
   ]
  },
  {
   "cell_type": "markdown",
   "metadata": {
    "id": "iTd60b1GdIsx"
   },
   "source": [
    "### Improve response quality by including examples"
   ]
  },
  {
   "cell_type": "markdown",
   "metadata": {
    "id": "yJi44NejdJYE"
   },
   "source": [
    "Another way to improve response quality is to add examples in your prompt. The LLM learns in-context from the examples on how to respond. Typically, one to five examples (shots) are enough to improve the quality of responses. Including too many examples can cause the model to over-fit the data and reduce the quality of responses.\n",
    "\n",
    "Similar to classical model training, the quality and distribution of the examples is very important. Pick examples that are representative of the scenarios that you need the model to learn, and keep the distribution of the examples (e.g. number of examples per class in the case of classification) aligned with your actual distribution."
   ]
  },
  {
   "cell_type": "markdown",
   "metadata": {
    "id": "sMbLginWdOKs"
   },
   "source": [
    "#### Zero-shot prompt"
   ]
  },
  {
   "cell_type": "markdown",
   "metadata": {
    "id": "Crh2Loi2dQ0v"
   },
   "source": [
    "Below is an example of zero-shot prompting, where you don't provide any examples to the LLM within the prompt itself."
   ]
  },
  {
   "cell_type": "code",
   "execution_count": 18,
   "metadata": {
    "id": "-7myRc-SdTQ4",
    "tags": []
   },
   "outputs": [
    {
     "data": {
      "text/markdown": [
       "Sentiment: Positive\n"
      ],
      "text/plain": [
       "<IPython.core.display.Markdown object>"
      ]
     },
     "metadata": {},
     "output_type": "display_data"
    }
   ],
   "source": [
    "prompt = \"\"\"Decide whether a Tweet's sentiment is positive, neutral, or negative.\n",
    "\n",
    "Tweet: I loved the new YouTube video you made!\n",
    "Sentiment:\n",
    "\"\"\"\n",
    "\n",
    "response = client.models.generate_content(model=MODEL_ID, contents=prompt)\n",
    "display(Markdown(response.text))"
   ]
  },
  {
   "cell_type": "markdown",
   "metadata": {
    "id": "ucRtPn9SdL64"
   },
   "source": [
    "#### One-shot prompt"
   ]
  },
  {
   "cell_type": "markdown",
   "metadata": {
    "id": "rs0gQH2vdYBi"
   },
   "source": [
    "Below is an example of one-shot prompting, where you provide one example to the LLM within the prompt to give some guidance on what type of response you want."
   ]
  },
  {
   "cell_type": "code",
   "execution_count": 19,
   "metadata": {
    "id": "iEq-KxGYdaT5",
    "tags": []
   },
   "outputs": [
    {
     "data": {
      "text/markdown": [
       "Sentiment: negative\n"
      ],
      "text/plain": [
       "<IPython.core.display.Markdown object>"
      ]
     },
     "metadata": {},
     "output_type": "display_data"
    }
   ],
   "source": [
    "prompt = \"\"\"Decide whether a Tweet's sentiment is positive, neutral, or negative.\n",
    "\n",
    "Tweet: I loved the new YouTube video you made!\n",
    "Sentiment: positive\n",
    "\n",
    "Tweet: That was awful. Super boring 😠\n",
    "Sentiment:\n",
    "\"\"\"\n",
    "\n",
    "response = client.models.generate_content(model=MODEL_ID, contents=prompt)\n",
    "display(Markdown(response.text))"
   ]
  },
  {
   "cell_type": "markdown",
   "metadata": {
    "id": "JnKLjJzmdfL_"
   },
   "source": [
    "#### Few-shot prompt"
   ]
  },
  {
   "cell_type": "markdown",
   "metadata": {
    "id": "6Zv-9F5OdgI_"
   },
   "source": [
    "Below is an example of few-shot prompting, where you provide a few examples to the LLM within the prompt to give some guidance on what type of response you want."
   ]
  },
  {
   "cell_type": "code",
   "execution_count": 20,
   "metadata": {
    "id": "u37P9tG4dk9S",
    "tags": []
   },
   "outputs": [
    {
     "data": {
      "text/markdown": [
       "Sentiment: positive\n"
      ],
      "text/plain": [
       "<IPython.core.display.Markdown object>"
      ]
     },
     "metadata": {},
     "output_type": "display_data"
    }
   ],
   "source": [
    "prompt = \"\"\"Decide whether a Tweet's sentiment is positive, neutral, or negative.\n",
    "\n",
    "Tweet: I loved the new YouTube video you made!\n",
    "Sentiment: positive\n",
    "\n",
    "Tweet: That was awful. Super boring 😠\n",
    "Sentiment: negative\n",
    "\n",
    "Tweet: Something surprised me about this video - it was actually original. It was not the same old recycled stuff that I always see. Watch it - you will not regret it.\n",
    "Sentiment:\n",
    "\"\"\"\n",
    "\n",
    "response = client.models.generate_content(model=MODEL_ID, contents=prompt)\n",
    "display(Markdown(response.text))"
   ]
  },
  {
   "cell_type": "markdown",
   "metadata": {
    "id": "wDMD3xb2dvX6"
   },
   "source": [
    "#### Choosing between zero-shot, one-shot, few-shot prompting methods"
   ]
  },
  {
   "cell_type": "markdown",
   "metadata": {
    "id": "s92W0YpNdxJp"
   },
   "source": [
    "Which prompt technique to use will solely depends on your goal. The zero-shot prompts are more open-ended and can give you creative answers, while one-shot and few-shot prompts teach the model how to behave so you can get more predictable answers that are consistent with the examples provided."
   ]
  }
 ],
 "metadata": {
  "colab": {
   "name": "intro_prompt_design.ipynb",
   "toc_visible": true
  },
  "environment": {
   "kernel": "conda-base-py",
   "name": "workbench-notebooks.m129",
   "type": "gcloud",
   "uri": "us-docker.pkg.dev/deeplearning-platform-release/gcr.io/workbench-notebooks:m129"
  },
  "kernelspec": {
   "display_name": "Python 3 (ipykernel) (Local)",
   "language": "python",
   "name": "conda-base-py"
  },
  "language_info": {
   "codemirror_mode": {
    "name": "ipython",
    "version": 3
   },
   "file_extension": ".py",
   "mimetype": "text/x-python",
   "name": "python",
   "nbconvert_exporter": "python",
   "pygments_lexer": "ipython3",
   "version": "3.10.16"
  }
 },
 "nbformat": 4,
 "nbformat_minor": 4
}
